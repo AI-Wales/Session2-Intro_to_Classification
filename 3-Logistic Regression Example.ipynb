{
 "cells": [
  {
   "cell_type": "markdown",
   "metadata": {},
   "source": [
    "# Logistic Regression Example with Scikit-Learn"
   ]
  },
  {
   "cell_type": "markdown",
   "metadata": {},
   "source": [
    "Logistic Regression is a supervised predictive analysis technique and is used to predict the probability of a categorical dependent variable (with 2 values, usually 0 or 1) with some other continous independent variable(s). \n",
    "\n",
    "Another way to think of it is that it predicts $P(y=1)$ as a function of X.\n",
    "\n",
    "So - 2 values (0 or 1) and probabilities - remember that Sigmoid function?! The Sigmoid Function ensures that our output will fallbetween 0 and 1  for any input value, and it outputs the probability that y=1. \n",
    "\n",
    "However, we dont need to worry too much about the maths today. Someone has already done all the hard work and produced an API that allows us to feed in our data and fit a Logistic Regression model to it. Its part of [SciKit-Learn](http://scikit-learn.org/stable/) - along with many other useful machine learning functions. \n",
    "\n",
    "This makes perfroming logistic regression very straightformward - lets get going!\n",
    "\n",
    "Start by importing the required modules, including our own little helper module ```scikit_utilities``` and the LogisticRegression model from ```sklearn```. "
   ]
  },
  {
   "cell_type": "code",
   "execution_count": 1,
   "metadata": {
    "collapsed": false
   },
   "outputs": [],
   "source": [
    "import matplotlib.pyplot as plt\n",
    "import numpy as np\n",
    "import scikit_utilities as ut\n",
    "\n",
    "from sklearn.linear_model import LogisticRegression"
   ]
  },
  {
   "cell_type": "markdown",
   "metadata": {},
   "source": [
    "### Get the Iris Data - Split it and Standardise it\n",
    "Use the helper module - remember this gets the data, classes are mapped to integers, splits it into train and test and also standardises it. "
   ]
  },
  {
   "cell_type": "code",
   "execution_count": 2,
   "metadata": {
    "collapsed": false
   },
   "outputs": [
    {
     "name": "stdout",
     "output_type": "stream",
     "text": [
      "[0 1 2]\n",
      "Training Data set is 105 values long\n"
     ]
    }
   ],
   "source": [
    "X_train_std, y_train, X_test_std, y_test, X_combined_std, y_combined, X_train, X_test = ut.get_iris_data()"
   ]
  },
  {
   "cell_type": "markdown",
   "metadata": {},
   "source": [
    "### Perform Logistic regression\n",
    "Use the SciKit Learn [Logistic Regression classifier](http://scikit-learn.org/stable/modules/generated/sklearn.linear_model.LogisticRegression.html) to fit the standardised training data ```X_train_std```. Its a supervised model, so it needs the ```y_train``` dataset too so!\n",
    "\n",
    "Dont worry too much about the ```C``` and ```random_state``` parameters for now - just use the values below. "
   ]
  },
  {
   "cell_type": "code",
   "execution_count": 3,
   "metadata": {
    "collapsed": false
   },
   "outputs": [
    {
     "data": {
      "text/plain": [
       "LogisticRegression(C=1000.0, class_weight=None, dual=False,\n",
       "          fit_intercept=True, intercept_scaling=1, max_iter=100,\n",
       "          multi_class='ovr', n_jobs=1, penalty='l2', random_state=0,\n",
       "          solver='liblinear', tol=0.0001, verbose=0, warm_start=False)"
      ]
     },
     "execution_count": 3,
     "metadata": {},
     "output_type": "execute_result"
    }
   ],
   "source": [
    "lr = LogisticRegression(C=1000.0, random_state =0)\n",
    "lr.fit(X_train_std, y_train)"
   ]
  },
  {
   "cell_type": "markdown",
   "metadata": {},
   "source": [
    "And that is it! You have __fitted the Logistic Regression model to the data!__"
   ]
  },
  {
   "cell_type": "markdown",
   "metadata": {},
   "source": [
    "We can dig into the model and get various information. We can see the coefficient weights it has used and what classes it has. "
   ]
  },
  {
   "cell_type": "code",
   "execution_count": 4,
   "metadata": {
    "collapsed": false
   },
   "outputs": [
    {
     "name": "stdout",
     "output_type": "stream",
     "text": [
      "[[-7.34015187 -6.64685581]\n",
      " [ 2.54373335 -2.3421979 ]\n",
      " [ 9.46617627  6.44380858]]\n",
      "[0 1 2]\n"
     ]
    }
   ],
   "source": [
    "print(lr.coef_)\n",
    "print(lr.classes_)"
   ]
  },
  {
   "cell_type": "markdown",
   "metadata": {},
   "source": [
    "## Evaluate the Model\n"
   ]
  },
  {
   "cell_type": "markdown",
   "metadata": {},
   "source": [
    "#### Predict class memebership probability\n",
    "We can use the model ```predict_proba``` method to predict the probability of data. Lets take the first 2 X_test_std data row and make a predictions on them:"
   ]
  },
  {
   "cell_type": "code",
   "execution_count": 5,
   "metadata": {
    "collapsed": false
   },
   "outputs": [
    {
     "data": {
      "text/plain": [
       "array([[ 0.70793846,  1.50872803],\n",
       "       [ 0.09545238, -0.29145882]])"
      ]
     },
     "execution_count": 5,
     "metadata": {},
     "output_type": "execute_result"
    }
   ],
   "source": [
    "X_test_std[0:2,:]"
   ]
  },
  {
   "cell_type": "code",
   "execution_count": 6,
   "metadata": {
    "collapsed": false
   },
   "outputs": [
    {
     "data": {
      "text/plain": [
       "array([[  2.05743774e-11,   6.31620264e-02,   9.36837974e-01],\n",
       "       [  6.08753106e-04,   9.99285569e-01,   1.05678028e-04]])"
      ]
     },
     "execution_count": 6,
     "metadata": {},
     "output_type": "execute_result"
    }
   ],
   "source": [
    "lr.predict_proba(X_test_std[0:2,:])"
   ]
  },
  {
   "cell_type": "markdown",
   "metadata": {},
   "source": [
    "This says that the model predicts the first X data row belongs to class 0 (iris- setosa) with a P=2e-11, class 1 (iris-versicolor) with a probability of P=0.06 and class 2 (iris-virginica) with a probability of 0.94. \n",
    "##### What probabilities does it predict for the second data point?\n",
    "\n",
    "#### Predicting the class \n",
    "if we use a __One v All__ approach, we compare each prediction for the input data and take the best probability and assign it to that class. \n",
    "##### What class would you assign to the data points above?\n",
    "\n",
    "We can also look at what the model predicts for all of the test set:"
   ]
  },
  {
   "cell_type": "code",
   "execution_count": 7,
   "metadata": {
    "collapsed": false
   },
   "outputs": [
    {
     "data": {
      "text/plain": [
       "array([2, 1, 0, 2, 0, 2, 0, 1, 1, 1, 2, 1, 1, 1, 1, 0, 1, 1, 0, 0, 2, 1, 0,\n",
       "       0, 2, 0, 0, 1, 1, 0, 2, 1, 0, 2, 2, 1, 0, 2, 1, 1, 2, 0, 2, 0, 0])"
      ]
     },
     "execution_count": 7,
     "metadata": {},
     "output_type": "execute_result"
    }
   ],
   "source": [
    "predictions = lr.predict(X_test_std)\n",
    "predictions"
   ]
  },
  {
   "cell_type": "markdown",
   "metadata": {},
   "source": [
    "and compare it against the labelled data"
   ]
  },
  {
   "cell_type": "code",
   "execution_count": 8,
   "metadata": {
    "collapsed": false
   },
   "outputs": [
    {
     "data": {
      "text/plain": [
       "array([2, 1, 0, 2, 0, 2, 0, 1, 1, 1, 2, 1, 1, 1, 1, 0, 1, 1, 0, 0, 2, 1, 0,\n",
       "       0, 2, 0, 0, 1, 1, 0, 2, 1, 0, 2, 2, 1, 0, 1, 1, 1, 2, 0, 2, 0, 0])"
      ]
     },
     "execution_count": 8,
     "metadata": {},
     "output_type": "execute_result"
    }
   ],
   "source": [
    "y_test"
   ]
  },
  {
   "cell_type": "markdown",
   "metadata": {},
   "source": [
    "As you can see the model is pretty accurate! But there are some misclassfications. But how do we measure this?"
   ]
  },
  {
   "cell_type": "markdown",
   "metadata": {},
   "source": [
    "#### Estimating accuracy with a score\n",
    "We can score how accurate the model is by using the LinearRegression ```score``` method. This is done by supplying the method with the __standardised X test data and the y test__ data sets. This assesses how many of the test data points the model predicted correctly and indicates accuracy.\n",
    "\n",
    "$$\\textsf{fraction of correct predictions:} \\frac{\\textsf{correct predictions}}{\\textsf{total number of data points}} $$"
   ]
  },
  {
   "cell_type": "code",
   "execution_count": 9,
   "metadata": {
    "collapsed": false
   },
   "outputs": [
    {
     "name": "stdout",
     "output_type": "stream",
     "text": [
      "The model has an accuracy of 97.8%\n"
     ]
    }
   ],
   "source": [
    "print(\"The model has an accuracy of %.1f%%\" % (lr.score(X_test_std, y_test)*100))"
   ]
  },
  {
   "cell_type": "markdown",
   "metadata": {},
   "source": [
    "#### Plot Decision Regions and Visualise the Model\n",
    "We can plot the data on a 2D plot as we did in the last notebook, only this time add the decision regions and boundaries that the model has learnt. This gives us a way of visually seeing where the model has decided to make the cut off between each Iris type. "
   ]
  },
  {
   "cell_type": "code",
   "execution_count": 10,
   "metadata": {
    "collapsed": false
   },
   "outputs": [
    {
     "name": "stdout",
     "output_type": "stream",
     "text": [
      "Populating the interactive namespace from numpy and matplotlib\n"
     ]
    }
   ],
   "source": [
    "# Will allow us to embed images in the notebook\n",
    "%matplotlib inline\n",
    "%pylab inline\n",
    "#Sets the figure size\n",
    "pylab.rcParams['figure.figsize'] = (12, 12)"
   ]
  },
  {
   "cell_type": "code",
   "execution_count": 11,
   "metadata": {
    "collapsed": false
   },
   "outputs": [
    {
     "data": {
      "image/png": "[encoded data removed]",
      "text/plain": [
       "<matplotlib.figure.Figure at 0xacfca58>"
      ]
     },
     "metadata": {},
     "output_type": "display_data"
    }
   ],
   "source": [
    "plt = ut.plot_decision_regions(X_combined_std, y_combined, classifier = lr, test_idx=range(105, 150))\n",
    "plt.xlabel('Petal Length (standardised)')\n",
    "plt.ylabel('Petal Width (standardised)')\n",
    "plt.legend(loc='upper right')\n",
    "plt.show()"
   ]
  },
  {
   "cell_type": "markdown",
   "metadata": {
    "collapsed": true
   },
   "source": [
    "### EXTRA - Adding Regularisation"
   ]
  },
  {
   "cell_type": "markdown",
   "metadata": {},
   "source": [
    "Overfitting is a common problem in ML, where a model fits a training set very well but fails to generalise to new data. When a model __OVERFITS__ we say it has __HIGH VARIANCE__.\n",
    "This is often caused by an overly complicated model for the underlying data. \n",
    "Simialrly we can have models that __UNDERFIT__ (these models have __HIGH BIAS__) which means the model is not complex enough to capture the pattern in the underlying data. "
   ]
  },
  {
   "cell_type": "markdown",
   "metadata": {},
   "source": [
    "We often seek to get a good __BIAS-VARIANCE__ tradeoff for ML models, tuning the complexity of the models to capture the optimum ammount of underlying pattern. A method often used for this is __regularisation__. Regularisation is used to handle high correlation between features, filter out noise and prevent overfitting. It introduces extra information or bias to penalise extreme paramteer weights. __L2__ regularisation is often used. It is added as a term to the cost function. It allows control on how well the model fits the training data by keeping the weights small. In the Logistic regression model we are using, this regularisation parameter is controlled by the value of C."
   ]
  },
  {
   "cell_type": "markdown",
   "metadata": {},
   "source": [
    "Lets fit 10 Logistic Regression models with different Inverse regularisation parameter values C (class 2 v all for illustration)"
   ]
  },
  {
   "cell_type": "code",
   "execution_count": 12,
   "metadata": {
    "collapsed": false
   },
   "outputs": [],
   "source": [
    "weights, params = [], []\n",
    "for c in np.arange(-5,5):\n",
    "    lr = LogisticRegression(C=10**c, random_state =0)\n",
    "    lr.fit(X_train_std, y_train)\n",
    "    weights.append(lr.coef_[1])\n",
    "    params.append(10**c)"
   ]
  },
  {
   "cell_type": "code",
   "execution_count": 13,
   "metadata": {
    "collapsed": true
   },
   "outputs": [],
   "source": [
    "weights = np.array(weights)"
   ]
  },
  {
   "cell_type": "code",
   "execution_count": 14,
   "metadata": {
    "collapsed": true
   },
   "outputs": [],
   "source": [
    "### Plot the Weight "
   ]
  },
  {
   "cell_type": "code",
   "execution_count": 15,
   "metadata": {
    "collapsed": false
   },
   "outputs": [
    {
     "data": {
      "image/png": "[encoded data removed]",
      "text/plain": [
       "<matplotlib.figure.Figure at 0xbee7f28>"
      ]
     },
     "metadata": {},
     "output_type": "display_data"
    }
   ],
   "source": [
    "plt.plot(params, weights[:,0],label='petal length')\n",
    "plt.plot(params, weights[:,1],linestyle='--', label='petal width')\n",
    "plt.ylabel('weight coefficent')\n",
    "plt.xlabel('C')\n",
    "plt.legend(loc='upper left')\n",
    "plt.xscale('log')\n",
    "plt.show()"
   ]
  },
  {
   "cell_type": "markdown",
   "metadata": {},
   "source": [
    "Increasing the Regularisation strength (decreasing C) the weight coefficents shrink. Lets see what that does to the model:"
   ]
  }
 ],
 "metadata": {
  "kernelspec": {
   "display_name": "Python 3",
   "language": "python",
   "name": "python3"
  },
  "language_info": {
   "codemirror_mode": {
    "name": "ipython",
    "version": 3
   },
   "file_extension": ".py",
   "mimetype": "text/x-python",
   "name": "python",
   "nbconvert_exporter": "python",
   "pygments_lexer": "ipython3",
   "version": "3.6.0"
  }
 },
 "nbformat": 4,
 "nbformat_minor": 2
}
