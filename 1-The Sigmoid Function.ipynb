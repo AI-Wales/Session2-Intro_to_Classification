{
 "cells": [
  {
   "cell_type": "markdown",
   "metadata": {},
   "source": [
    "# Sigmoid Function"
   ]
  },
  {
   "cell_type": "markdown",
   "metadata": {},
   "source": [
    "The Sigmoid function is often used in Machine Learning as an activation function - it can define what the output of a node is given an input. Here we are going to get familair with the Jupyer Notebook environment and take a closer look at the Sigmoid function.\n",
    "\n",
    "The Sigmoid Function is given by:\n",
    "\n",
    "$$\\frac{1}{1 + e^{-z}}$$\n",
    "\n",
    "So lets look at plotting this.\n",
    "\n",
    "#### Firstly lets import [numpy](http://www.numpy.org/) and matplotlib so we can generate some inputs and plot some data."
   ]
  },
  {
   "cell_type": "code",
   "execution_count": 1,
   "metadata": {
    "collapsed": true
   },
   "outputs": [],
   "source": [
    "import numpy as np\n",
    "import matplotlib.pyplot as plt"
   ]
  },
  {
   "cell_type": "markdown",
   "metadata": {},
   "source": [
    "#### Lets create a function that calculates the Sigmoid function of a given value. We will use numpy to get the expontial value:"
   ]
  },
  {
   "cell_type": "code",
   "execution_count": 2,
   "metadata": {
    "collapsed": true
   },
   "outputs": [],
   "source": [
    "#Sigmoid Function\n",
    "def sigmoid(z):\n",
    "    return 1.0/(1.0 + np.exp(-z))"
   ]
  },
  {
   "cell_type": "markdown",
   "metadata": {},
   "source": [
    "#### Generate example z values\n",
    "We will use the [numpy arange](https://docs.scipy.org/doc/numpy/reference/generated/numpy.arange.html) function to generate a set of evenly spaced values between -7 and 7 with a step size of 0.1."
   ]
  },
  {
   "cell_type": "code",
   "execution_count": 3,
   "metadata": {},
   "outputs": [],
   "source": [
    "z = np.arange(-7, 7 , 0.1)"
   ]
  },
  {
   "cell_type": "markdown",
   "metadata": {},
   "source": [
    "#### Now pass each value to the Sigmoid function\n",
    "This is the function we defined earlier"
   ]
  },
  {
   "cell_type": "code",
   "execution_count": 4,
   "metadata": {},
   "outputs": [],
   "source": [
    "phi_z = sigmoid(z)"
   ]
  },
  {
   "cell_type": "markdown",
   "metadata": {},
   "source": [
    "#### Plot Function\n",
    "We will use [matplotlib.pyplot](https://matplotlib.org/api/_as_gen/matplotlib.pyplot.plot.html) to plot this data. We use the Z values as the x axis and the phi_z values as the y-axis.\n",
    "\n",
    "Check out the matplotlib [manuals](https://matplotlib.org/2.0.0/index.html), [guides](https://www.datacamp.com/community/tutorials/matplotlib-tutorial-python), [introductions](https://www.datacamp.com/community/blog/python-matplotlib-cheat-sheet) and [cheatsheet](https://s3.amazonaws.com/assets.datacamp.com/blog_assets/Python_Matplotlib_Cheat_Sheet.pdf) to make sure you understand what every command is doing:"
   ]
  },
  {
   "cell_type": "code",
   "execution_count": 5,
   "metadata": {},
   "outputs": [
    {
     "data": {
      "image/png": "[encoded data removed]",
      "text/plain": [
       "<matplotlib.figure.Figure at 0x10505a2b0>"
      ]
     },
     "metadata": {},
     "output_type": "display_data"
    }
   ],
   "source": [
    "plt.plot(z, phi_z)\n",
    "plt.axvline(0.0, color='k')\n",
    "plt.axhspan(0.0, 1.0, alpha=0.1, ls='dashdot', color = 'k', lw = 2)\n",
    "plt.axhline(y=0.5, ls='dotted', color='k')\n",
    "plt.yticks([0.0, 0.5, 1.0])\n",
    "plt.ylim(-0.1, 1.1)\n",
    "plt.xlabel('x')\n",
    "plt.ylabel('$\\phi (z)$')\n",
    "\n",
    "plt.show()"
   ]
  },
  {
   "cell_type": "markdown",
   "metadata": {},
   "source": [
    "Have a good look at the function - especially note:\n",
    "\n",
    "1. The output boundaries are (0,1) - why might this be useful (Hint - probability).\n",
    "2. How many groups do you think you can use this function to choose between? \n",
    "3. The function centres at (0, 0.5)\n",
    "\n",
    "The function shown here maps any real number to the (0, 1) interval, making it useful for transforming an arbitrary-valued function into a function better suited for classification.\n",
    "\n",
    "The value of $\\phi(x)$ will give us the probability that our output is 1. For example, $\\phi(x)=0.7$ gives us a probability of 70% that our output is 1. Our probability that our prediction is 0 is just the complement of our probability that it is 1 (e.g. if probability that it is 1 is 70%, then the probability that it is 0 is 30%).\n",
    "\n",
    "$$\\phi(z) = P(y=1|z) = 1 - P(y=1|z)$$"
   ]
  },
  {
   "cell_type": "markdown",
   "metadata": {},
   "source": [
    "The Sigmoid function is an example of many Activation functions. Can you think of any similar shapes or functions?"
   ]
  }
 ],
 "metadata": {
  "kernelspec": {
   "display_name": "Python 3",
   "language": "python",
   "name": "python3"
  },
  "language_info": {
   "codemirror_mode": {
    "name": "ipython",
    "version": 3
   },
   "file_extension": ".py",
   "mimetype": "text/x-python",
   "name": "python",
   "nbconvert_exporter": "python",
   "pygments_lexer": "ipython3",
   "version": "3.6.3"
  }
 },
 "nbformat": 4,
 "nbformat_minor": 2
}
